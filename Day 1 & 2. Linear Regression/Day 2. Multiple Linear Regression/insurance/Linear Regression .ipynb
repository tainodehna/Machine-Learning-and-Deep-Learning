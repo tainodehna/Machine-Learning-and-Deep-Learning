{
 "cells": [
  {
   "cell_type": "markdown",
   "id": "a3de116f",
   "metadata": {},
   "source": [
    "# Aim: Can you accurately predict insurance costs?"
   ]
  },
  {
   "cell_type": "markdown",
   "id": "a1f9bcd3",
   "metadata": {},
   "source": [
    "# Import library"
   ]
  },
  {
   "cell_type": "code",
   "execution_count": 13,
   "id": "6c402703",
   "metadata": {},
   "outputs": [],
   "source": [
    "import pandas as pd\n",
    "import numpy as np"
   ]
  },
  {
   "cell_type": "markdown",
   "id": "62c0f4fc",
   "metadata": {},
   "source": [
    "# Import Data"
   ]
  },
  {
   "cell_type": "code",
   "execution_count": 10,
   "id": "2e588412",
   "metadata": {},
   "outputs": [],
   "source": [
    "insurance = pd.read_csv('insurance.csv')"
   ]
  },
  {
   "cell_type": "code",
   "execution_count": 11,
   "id": "bcf239d5",
   "metadata": {},
   "outputs": [
    {
     "data": {
      "text/html": [
       "<div>\n",
       "<style scoped>\n",
       "    .dataframe tbody tr th:only-of-type {\n",
       "        vertical-align: middle;\n",
       "    }\n",
       "\n",
       "    .dataframe tbody tr th {\n",
       "        vertical-align: top;\n",
       "    }\n",
       "\n",
       "    .dataframe thead th {\n",
       "        text-align: right;\n",
       "    }\n",
       "</style>\n",
       "<table border=\"1\" class=\"dataframe\">\n",
       "  <thead>\n",
       "    <tr style=\"text-align: right;\">\n",
       "      <th></th>\n",
       "      <th>age</th>\n",
       "      <th>sex</th>\n",
       "      <th>bmi</th>\n",
       "      <th>children</th>\n",
       "      <th>smoker</th>\n",
       "      <th>region</th>\n",
       "      <th>charges</th>\n",
       "    </tr>\n",
       "  </thead>\n",
       "  <tbody>\n",
       "    <tr>\n",
       "      <th>0</th>\n",
       "      <td>19</td>\n",
       "      <td>female</td>\n",
       "      <td>27.900</td>\n",
       "      <td>0</td>\n",
       "      <td>yes</td>\n",
       "      <td>southwest</td>\n",
       "      <td>16884.92400</td>\n",
       "    </tr>\n",
       "    <tr>\n",
       "      <th>1</th>\n",
       "      <td>18</td>\n",
       "      <td>male</td>\n",
       "      <td>33.770</td>\n",
       "      <td>1</td>\n",
       "      <td>no</td>\n",
       "      <td>southeast</td>\n",
       "      <td>1725.55230</td>\n",
       "    </tr>\n",
       "    <tr>\n",
       "      <th>2</th>\n",
       "      <td>28</td>\n",
       "      <td>male</td>\n",
       "      <td>33.000</td>\n",
       "      <td>3</td>\n",
       "      <td>no</td>\n",
       "      <td>southeast</td>\n",
       "      <td>4449.46200</td>\n",
       "    </tr>\n",
       "    <tr>\n",
       "      <th>3</th>\n",
       "      <td>33</td>\n",
       "      <td>male</td>\n",
       "      <td>22.705</td>\n",
       "      <td>0</td>\n",
       "      <td>no</td>\n",
       "      <td>northwest</td>\n",
       "      <td>21984.47061</td>\n",
       "    </tr>\n",
       "    <tr>\n",
       "      <th>4</th>\n",
       "      <td>32</td>\n",
       "      <td>male</td>\n",
       "      <td>28.880</td>\n",
       "      <td>0</td>\n",
       "      <td>no</td>\n",
       "      <td>northwest</td>\n",
       "      <td>3866.85520</td>\n",
       "    </tr>\n",
       "  </tbody>\n",
       "</table>\n",
       "</div>"
      ],
      "text/plain": [
       "   age     sex     bmi  children smoker     region      charges\n",
       "0   19  female  27.900         0    yes  southwest  16884.92400\n",
       "1   18    male  33.770         1     no  southeast   1725.55230\n",
       "2   28    male  33.000         3     no  southeast   4449.46200\n",
       "3   33    male  22.705         0     no  northwest  21984.47061\n",
       "4   32    male  28.880         0     no  northwest   3866.85520"
      ]
     },
     "execution_count": 11,
     "metadata": {},
     "output_type": "execute_result"
    }
   ],
   "source": [
    "insurance.head()"
   ]
  },
  {
   "cell_type": "code",
   "execution_count": 20,
   "id": "c6ced7d5",
   "metadata": {},
   "outputs": [],
   "source": [
    "age = insurance['age']\n",
    "sex = insurance['sex']\n",
    "bmi = insurance['bmi']\n",
    "children = insurance['children']\n",
    "smoker = insurance['smoker']\n",
    "region = insurance['region']\n",
    "charges = insurance['charges']"
   ]
  },
  {
   "cell_type": "markdown",
   "id": "c58ca0f8",
   "metadata": {},
   "source": [
    "# Single linear regression"
   ]
  },
  {
   "cell_type": "markdown",
   "id": "17c0942f",
   "metadata": {},
   "source": [
    "## Statistic learning"
   ]
  },
  {
   "cell_type": "code",
   "execution_count": 38,
   "id": "c60f7bb5",
   "metadata": {},
   "outputs": [],
   "source": [
    "# Model linear regression between age and  charges\n",
    "mean_age=np.mean(age)\n",
    "mean_charges=np.mean(charges)\n",
    "\n",
    "sum0 = 0\n",
    "sum1 = 0\n",
    "for i in range(len(insurance)): \n",
    "    k = (age[i]-mean_age)*(charges[i]-mean_charges)\n",
    "    sum0 = sum0 + k\n",
    "    t = (age[i]-mean_age)**2\n",
    "    sum1 = sum1 + t\n",
    "\n",
    "scope_1 = sum0/sum1\n",
    "scope_0 = mean_charges - scope_1*mean_age\n",
    "\n",
    "def model_1(age):\n",
    "\n",
    "    \n",
    "    charges_predict = scope_0 + scope_1 * age\n",
    "    \n",
    "    return charges_predict"
   ]
  },
  {
   "cell_type": "code",
   "execution_count": null,
   "id": "3c37b64c",
   "metadata": {},
   "outputs": [],
   "source": [
    "# accurancy of coefficient \n"
   ]
  },
  {
   "cell_type": "code",
   "execution_count": 39,
   "id": "d34bb0d1",
   "metadata": {},
   "outputs": [
    {
     "name": "stdout",
     "output_type": "stream",
     "text": [
      "0.08940589967885793\n"
     ]
    }
   ],
   "source": [
    "# Accurancy of the model\n",
    "RSS = 0\n",
    "TSS = 0\n",
    "for i in range(len(charges)):\n",
    "    k = (charges[i] - model_1(age[i]))**2\n",
    "    RSS = RSS + k\n",
    "    \n",
    "for i in range(len(charges)):\n",
    "    k = (charges[i] - mean_charges)**2\n",
    "    TSS = TSS + k\n",
    "\n",
    "R_squard = 1 - RSS/TSS\n",
    "\n",
    "print(R_squard)"
   ]
  },
  {
   "cell_type": "markdown",
   "id": "87c7c249",
   "metadata": {},
   "source": [
    "## Machine learning"
   ]
  },
  {
   "cell_type": "code",
   "execution_count": null,
   "id": "361880e4",
   "metadata": {},
   "outputs": [],
   "source": [
    "# train test split\n",
    "from sklearn.model_selection import train_test_split\n",
    "X_train, X_test, y_train, y_test = train_test_split(age,charges, train_size=0.7, random_state=2529)\n",
    "\n",
    "# check shape of train and test sample\n",
    "X_train.shape, X_test.shape, y_train.shape, y_test.shape\n",
    "\n",
    "# select model\n",
    "from sklearn.linear_model import LinearRegression\n",
    "model = LinearRegression()\n",
    "\n",
    "# Step 6 : train or fit model\n",
    "model.fit(X_train,y_train)"
   ]
  }
 ],
 "metadata": {
  "kernelspec": {
   "display_name": "Python 3 (ipykernel)",
   "language": "python",
   "name": "python3"
  },
  "language_info": {
   "codemirror_mode": {
    "name": "ipython",
    "version": 3
   },
   "file_extension": ".py",
   "mimetype": "text/x-python",
   "name": "python",
   "nbconvert_exporter": "python",
   "pygments_lexer": "ipython3",
   "version": "3.10.9"
  }
 },
 "nbformat": 4,
 "nbformat_minor": 5
}
